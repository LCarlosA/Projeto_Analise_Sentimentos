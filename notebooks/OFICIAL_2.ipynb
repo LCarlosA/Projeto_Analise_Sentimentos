{
  "cells": [
    {
      "cell_type": "markdown",
      "metadata": {
        "id": "jGtqWdjm5s21"
      },
      "source": [
        "## Importação de bibliotecas e de dados"
      ]
    },
    {
      "cell_type": "code",
      "execution_count": 1,
      "metadata": {
        "id": "uHEfcxp5dNxJ"
      },
      "outputs": [],
      "source": [
        "import numpy as np\n",
        "import pandas as pd\n",
        "import seaborn as sns\n",
        "import string\n",
        "import random\n",
        "import matplotlib.pyplot as plt\n",
        "import tensorflow as tf\n",
        "from tensorflow.keras import layers\n",
        "import tensorflow_datasets as tfds"
      ]
    },
    {
      "cell_type": "code",
      "execution_count": null,
      "metadata": {
        "id": "l7KWCoIVtluu"
      },
      "outputs": [],
      "source": [
        "train_labels = pd.read_csv('train_labels.csv')\n",
        "test_labels = pd.read_csv('test_labels.csv')"
      ]
    },
    {
      "cell_type": "code",
      "execution_count": null,
      "metadata": {
        "colab": {
          "base_uri": "https://localhost:8080/",
          "height": 304
        },
        "id": "GSVjO2HwJPEE",
        "outputId": "4e39768b-213b-4038-d2dc-9e467637dffd"
      },
      "outputs": [
        {
          "ename": "ValueError",
          "evalue": "the number of columns changed from 46 to 40 at row 912; use `usecols` to select a subset and avoid this error",
          "output_type": "error",
          "traceback": [
            "\u001b[0;31m---------------------------------------------------------------------------\u001b[0m",
            "\u001b[0;31mValueError\u001b[0m                                Traceback (most recent call last)",
            "\u001b[0;32m<ipython-input-7-e92e99295291>\u001b[0m in \u001b[0;36m<cell line: 1>\u001b[0;34m()\u001b[0m\n\u001b[0;32m----> 1\u001b[0;31m \u001b[0mtrain_input\u001b[0m \u001b[0;34m=\u001b[0m \u001b[0mnp\u001b[0m\u001b[0;34m.\u001b[0m\u001b[0mloadtxt\u001b[0m\u001b[0;34m(\u001b[0m\u001b[0;34m'train_inputs.csv'\u001b[0m\u001b[0;34m)\u001b[0m\u001b[0;34m\u001b[0m\u001b[0;34m\u001b[0m\u001b[0m\n\u001b[0m\u001b[1;32m      2\u001b[0m \u001b[0mtest_input\u001b[0m \u001b[0;34m=\u001b[0m \u001b[0mnp\u001b[0m\u001b[0;34m.\u001b[0m\u001b[0mloadtxt\u001b[0m\u001b[0;34m(\u001b[0m\u001b[0;34m'test_inputs.csv'\u001b[0m\u001b[0;34m)\u001b[0m\u001b[0;34m\u001b[0m\u001b[0;34m\u001b[0m\u001b[0m\n",
            "\u001b[0;32m/usr/local/lib/python3.10/dist-packages/numpy/lib/npyio.py\u001b[0m in \u001b[0;36mloadtxt\u001b[0;34m(fname, dtype, comments, delimiter, converters, skiprows, usecols, unpack, ndmin, encoding, max_rows, quotechar, like)\u001b[0m\n\u001b[1;32m   1371\u001b[0m         \u001b[0mdelimiter\u001b[0m \u001b[0;34m=\u001b[0m \u001b[0mdelimiter\u001b[0m\u001b[0;34m.\u001b[0m\u001b[0mdecode\u001b[0m\u001b[0;34m(\u001b[0m\u001b[0;34m'latin1'\u001b[0m\u001b[0;34m)\u001b[0m\u001b[0;34m\u001b[0m\u001b[0;34m\u001b[0m\u001b[0m\n\u001b[1;32m   1372\u001b[0m \u001b[0;34m\u001b[0m\u001b[0m\n\u001b[0;32m-> 1373\u001b[0;31m     arr = _read(fname, dtype=dtype, comment=comment, delimiter=delimiter,\n\u001b[0m\u001b[1;32m   1374\u001b[0m                 \u001b[0mconverters\u001b[0m\u001b[0;34m=\u001b[0m\u001b[0mconverters\u001b[0m\u001b[0;34m,\u001b[0m \u001b[0mskiplines\u001b[0m\u001b[0;34m=\u001b[0m\u001b[0mskiprows\u001b[0m\u001b[0;34m,\u001b[0m \u001b[0musecols\u001b[0m\u001b[0;34m=\u001b[0m\u001b[0musecols\u001b[0m\u001b[0;34m,\u001b[0m\u001b[0;34m\u001b[0m\u001b[0;34m\u001b[0m\u001b[0m\n\u001b[1;32m   1375\u001b[0m                 \u001b[0munpack\u001b[0m\u001b[0;34m=\u001b[0m\u001b[0munpack\u001b[0m\u001b[0;34m,\u001b[0m \u001b[0mndmin\u001b[0m\u001b[0;34m=\u001b[0m\u001b[0mndmin\u001b[0m\u001b[0;34m,\u001b[0m \u001b[0mencoding\u001b[0m\u001b[0;34m=\u001b[0m\u001b[0mencoding\u001b[0m\u001b[0;34m,\u001b[0m\u001b[0;34m\u001b[0m\u001b[0;34m\u001b[0m\u001b[0m\n",
            "\u001b[0;32m/usr/local/lib/python3.10/dist-packages/numpy/lib/npyio.py\u001b[0m in \u001b[0;36m_read\u001b[0;34m(fname, delimiter, comment, quote, imaginary_unit, usecols, skiplines, max_rows, converters, ndmin, unpack, dtype, encoding)\u001b[0m\n\u001b[1;32m   1014\u001b[0m \u001b[0;34m\u001b[0m\u001b[0m\n\u001b[1;32m   1015\u001b[0m         \u001b[0;32mif\u001b[0m \u001b[0mread_dtype_via_object_chunks\u001b[0m \u001b[0;32mis\u001b[0m \u001b[0;32mNone\u001b[0m\u001b[0;34m:\u001b[0m\u001b[0;34m\u001b[0m\u001b[0;34m\u001b[0m\u001b[0m\n\u001b[0;32m-> 1016\u001b[0;31m             arr = _load_from_filelike(\n\u001b[0m\u001b[1;32m   1017\u001b[0m                 \u001b[0mdata\u001b[0m\u001b[0;34m,\u001b[0m \u001b[0mdelimiter\u001b[0m\u001b[0;34m=\u001b[0m\u001b[0mdelimiter\u001b[0m\u001b[0;34m,\u001b[0m \u001b[0mcomment\u001b[0m\u001b[0;34m=\u001b[0m\u001b[0mcomment\u001b[0m\u001b[0;34m,\u001b[0m \u001b[0mquote\u001b[0m\u001b[0;34m=\u001b[0m\u001b[0mquote\u001b[0m\u001b[0;34m,\u001b[0m\u001b[0;34m\u001b[0m\u001b[0;34m\u001b[0m\u001b[0m\n\u001b[1;32m   1018\u001b[0m                 \u001b[0mimaginary_unit\u001b[0m\u001b[0;34m=\u001b[0m\u001b[0mimaginary_unit\u001b[0m\u001b[0;34m,\u001b[0m\u001b[0;34m\u001b[0m\u001b[0;34m\u001b[0m\u001b[0m\n",
            "\u001b[0;31mValueError\u001b[0m: the number of columns changed from 46 to 40 at row 912; use `usecols` to select a subset and avoid this error"
          ]
        }
      ],
      "source": [
        "train_input = np.loadtxt('train_inputs.csv')\n",
        "test_input = np.loadtxt('test_inputs.csv')\n"
      ]
    },
    {
      "cell_type": "code",
      "execution_count": null,
      "metadata": {
        "colab": {
          "background_save": true
        },
        "id": "r-5i0WudJPAe"
      },
      "outputs": [],
      "source": [
        "train_input = train_input.astype(int)\n",
        "test_input = test_input.astype(int)"
      ]
    },
    {
      "cell_type": "code",
      "execution_count": null,
      "metadata": {
        "colab": {
          "background_save": true
        },
        "id": "kQjaxe66Pq-N",
        "outputId": "da2fefb0-457e-4d05-fbc3-395df8a6d95c"
      },
      "outputs": [
        {
          "data": {
            "text/plain": [
              "array([ 69,   3,   1, 819,   0,   0,   0,   0,   0,   0,   0,   0,   0,\n",
              "         0,   0,   0,   0,   0,   0,   0,   0,   0,   0,   0,   0,   0,\n",
              "         0,   0,   0,   0,   0,   0,   0,   0,   0,   0,   0,   0,   0,\n",
              "         0,   0,   0,   0,   0,   0,   0])"
            ]
          },
          "execution_count": 10,
          "metadata": {},
          "output_type": "execute_result"
        }
      ],
      "source": [
        "train_input[0]"
      ]
    },
    {
      "cell_type": "code",
      "execution_count": null,
      "metadata": {
        "colab": {
          "background_save": true,
          "base_uri": "https://localhost:8080/"
        },
        "id": "vVhcEecjP042",
        "outputId": "f4516963-fe7a-429a-aadd-1109c8dc807e"
      },
      "outputs": [
        {
          "data": {
            "text/plain": [
              "(153708, 46)"
            ]
          },
          "execution_count": 11,
          "metadata": {},
          "output_type": "execute_result"
        }
      ],
      "source": [
        "train_input.shape"
      ]
    },
    {
      "cell_type": "code",
      "execution_count": null,
      "metadata": {
        "colab": {
          "background_save": true,
          "base_uri": "https://localhost:8080/"
        },
        "id": "QaG-7hP7P30O",
        "outputId": "18248829-a751-4434-ad60-0a5e44417413"
      },
      "outputs": [
        {
          "data": {
            "text/plain": [
              "(153708, 1)"
            ]
          },
          "execution_count": 12,
          "metadata": {},
          "output_type": "execute_result"
        }
      ],
      "source": [
        "train_labels.shape"
      ]
    },
    {
      "cell_type": "code",
      "execution_count": null,
      "metadata": {
        "colab": {
          "background_save": true,
          "base_uri": "https://localhost:8080/"
        },
        "id": "Z-LIG2FCP3w5",
        "outputId": "5e86bb1a-5035-4f6c-fed7-5625ac6f709b"
      },
      "outputs": [
        {
          "data": {
            "text/plain": [
              "(65876, 46)"
            ]
          },
          "execution_count": 13,
          "metadata": {},
          "output_type": "execute_result"
        }
      ],
      "source": [
        "test_input.shape"
      ]
    },
    {
      "cell_type": "code",
      "execution_count": null,
      "metadata": {
        "colab": {
          "background_save": true,
          "base_uri": "https://localhost:8080/"
        },
        "id": "TT7FO_VqP3t_",
        "outputId": "631b95ee-0b23-41f2-cfea-31eb14f58a94"
      },
      "outputs": [
        {
          "data": {
            "text/plain": [
              "(65876, 1)"
            ]
          },
          "execution_count": 14,
          "metadata": {},
          "output_type": "execute_result"
        }
      ],
      "source": [
        "test_labels.shape"
      ]
    },
    {
      "cell_type": "code",
      "execution_count": null,
      "metadata": {
        "colab": {
          "background_save": true
        },
        "id": "uZdqesC9uoXe"
      },
      "outputs": [],
      "source": [
        "class DCNN(tf.keras.Model):\n",
        "\n",
        "  def __init__(self,\n",
        "               vocab_size,\n",
        "               emb_dim=128,\n",
        "               nb_filters=50,\n",
        "               ffn_units=512,\n",
        "               nb_classes=2,\n",
        "               dropout_rate=0.1,\n",
        "               training=True,\n",
        "               name=\"dcnn\"):\n",
        "    super(DCNN, self).__init__(name=name)\n",
        "\n",
        "    self.embedding = layers.Embedding(vocab_size, emb_dim)\n",
        "\n",
        "    # Camada responsável pela interpretação da distância entre as palavras, realizando uma aproximação de palavras com semântica semelhante\n",
        "    # Bem parecido com a Word2Vec\n",
        "    #emb_dim -> Significa o parametro de distancia, não pode ser tão grande nem tão pequeno\n",
        "\n",
        "    self.bigram = layers.Conv1D(filters=nb_filters, kernel_size=2, padding='same', activation='relu')\n",
        "\n",
        "    self.trigram = layers.Conv1D(filters=nb_filters, kernel_size=3, padding='same', activation='relu')\n",
        "\n",
        "    self.fourgram = layers.Conv1D(filters=nb_filters, kernel_size=4, padding='same', activation='relu')\n",
        "\n",
        "    #Camada de Convolução -> Camada responsável pela leitura da imagem, ela entra linha a linha em cada pixel da imagem para identificar características ,\n",
        "    # Para realizar isso, a camada convolucional não é conectada ao neuronio passado, mas sim a pixels específicos para adquirir suas features e identificar um novo ponto\n",
        "    # Igual a convolução usada em telecomunicações\n",
        "    #  filters -> Numero de filtros utilizados\n",
        "    # kernel_size - > Significa o tamanho do filtro, assim qual a movimentação ele irá realizar na convolução\n",
        "    # Ex: Frase 'Eu sou o relampago marquinhos'\n",
        "    # kernel_size = 2 -> Leitura: 'Eu sou' 'sou o' 'o relampago' 'relampago marquinhos\n",
        "    # kernel_size = 3 -> 'Eu sou o' 'sou relampago marquinhos\n",
        "\n",
        "\n",
        "\n",
        "\n",
        "    self.pool = layers.GlobalMaxPool1D() # CAMADA DE POOL -> Diminui o tamanho das imagens de saída, assim melhorando desempenho e memória\n",
        "\n",
        "    self.dense_1 = layers.Dense(units = ffn_units, activation = 'relu') # Camada de aprendizado das caracteristicas obtidas\n",
        "    self.dropout = layers.Dropout(rate = dropout_rate) # Camada de desligamento automatico dos neuronios\n",
        "    self.last_dense = layers.Dense(units = 1, activation = 'sigmoid') # Camada de saída\n",
        "  def call(self, inputs, training):\n",
        "    x = self.embedding(inputs)\n",
        "    x_1 = self.bigram(x)\n",
        "    x_1 = self.pool(x_1)\n",
        "\n",
        "    x_2 = self.trigram(x)\n",
        "    x_2 = self.pool(x_2)\n",
        "\n",
        "    x_3 = self.fourgram(x)\n",
        "    x_3 = self.pool(x_3)\n",
        "\n",
        "    merged = tf.concat([x_1, x_2, x_3], axis = -1)\n",
        "    merged = self.dense_1(merged)\n",
        "\n",
        "    merged = self.dropout(merged, training=training)\n",
        "    output = self.last_dense(merged)\n",
        "\n",
        "    return output"
      ]
    },
    {
      "cell_type": "code",
      "execution_count": null,
      "metadata": {
        "colab": {
          "background_save": true,
          "base_uri": "https://localhost:8080/"
        },
        "id": "-Cw94mG0PTgz",
        "outputId": "5d2d9567-09c8-4675-afda-90ab5d728926"
      },
      "outputs": [
        {
          "data": {
            "text/plain": [
              "(219584, 2)"
            ]
          },
          "execution_count": 16,
          "metadata": {},
          "output_type": "execute_result"
        }
      ],
      "source": [
        "data = pd.read_csv('data.csv')\n",
        "data.shape"
      ]
    },
    {
      "cell_type": "code",
      "execution_count": null,
      "metadata": {
        "colab": {
          "background_save": true
        },
        "id": "2f_XeCw-Q8T0"
      },
      "outputs": [],
      "source": [
        "data_clean = data['tratamento3']\n",
        "data_clean = data_clean.dropna()"
      ]
    },
    {
      "cell_type": "code",
      "execution_count": null,
      "metadata": {
        "id": "6HLWcEs67it_"
      },
      "outputs": [],
      "source": [
        "tokenizer = tfds.deprecated.text.SubwordTextEncoder.build_from_corpus(data_clean, target_vocab_size=2**16)"
      ]
    },
    {
      "cell_type": "code",
      "execution_count": null,
      "metadata": {
        "colab": {
          "base_uri": "https://localhost:8080/"
        },
        "id": "XPnKacdIOfZJ",
        "outputId": "a17345a6-e00b-4eaf-cfc9-e99e9eedf447"
      },
      "outputs": [
        {
          "data": {
            "text/plain": [
              "54930"
            ]
          },
          "execution_count": 15,
          "metadata": {},
          "output_type": "execute_result"
        }
      ],
      "source": [
        "tokenizer.vocab_size"
      ]
    },
    {
      "cell_type": "code",
      "execution_count": null,
      "metadata": {
        "colab": {
          "base_uri": "https://localhost:8080/"
        },
        "id": "f7wIcBviPfK3",
        "outputId": "5e5decd1-e58a-40a9-afb9-c7b62880ff36"
      },
      "outputs": [
        {
          "data": {
            "text/plain": [
              "[9198, 31175, 347]"
            ]
          },
          "execution_count": 16,
          "metadata": {},
          "output_type": "execute_result"
        }
      ],
      "source": [
        "tokenizer.encode('eu sou feliz')"
      ]
    },
    {
      "cell_type": "code",
      "execution_count": null,
      "metadata": {
        "colab": {
          "base_uri": "https://localhost:8080/",
          "height": 36
        },
        "id": "XnpJoFEGXrmq",
        "outputId": "d0b8840b-3a6d-41e7-cb67-d081bb9c4010"
      },
      "outputs": [
        {
          "data": {
            "application/vnd.google.colaboratory.intrinsic+json": {
              "type": "string"
            },
            "text/plain": [
              "'eu sou feliz'"
            ]
          },
          "execution_count": 17,
          "metadata": {},
          "output_type": "execute_result"
        }
      ],
      "source": [
        "tokenizer.decode([9198, 31175, 347])"
      ]
    },
    {
      "cell_type": "code",
      "execution_count": null,
      "metadata": {
        "colab": {
          "base_uri": "https://localhost:8080/"
        },
        "id": "UzdraXCA47s3",
        "outputId": "6910ca04-038a-41d1-c6d1-13d66208ec7e"
      },
      "outputs": [
        {
          "data": {
            "text/plain": [
              "54930"
            ]
          },
          "execution_count": 18,
          "metadata": {},
          "output_type": "execute_result"
        }
      ],
      "source": [
        "vocab_size = tokenizer.vocab_size\n",
        "vocab_size"
      ]
    },
    {
      "cell_type": "code",
      "execution_count": null,
      "metadata": {
        "colab": {
          "base_uri": "https://localhost:8080/"
        },
        "id": "PZWKZ-DVI1zO",
        "outputId": "93ce4437-f66d-4c39-de19-d8f386fcd79b"
      },
      "outputs": [
        {
          "data": {
            "text/plain": [
              "1"
            ]
          },
          "execution_count": 19,
          "metadata": {},
          "output_type": "execute_result"
        }
      ],
      "source": [
        "emb_dim = 200\n",
        "nb_filters = 100\n",
        "ffn_units = 256\n",
        "batch_size = 64\n",
        "nb_classes = len(set(train_labels))\n",
        "nb_classes"
      ]
    },
    {
      "cell_type": "code",
      "execution_count": null,
      "metadata": {
        "id": "u23dIWhnI5jZ"
      },
      "outputs": [],
      "source": [
        "dropout_rate = 0.2\n",
        "nb_epochs = 5"
      ]
    },
    {
      "cell_type": "code",
      "execution_count": null,
      "metadata": {
        "id": "l4eqf8ghI5f5"
      },
      "outputs": [],
      "source": [
        "Dcnn = DCNN(vocab_size=vocab_size, emb_dim=emb_dim, nb_filters=nb_filters,\n",
        "            ffn_units=ffn_units, nb_classes=nb_classes, dropout_rate=dropout_rate)"
      ]
    },
    {
      "cell_type": "code",
      "execution_count": null,
      "metadata": {
        "id": "cA_cs4BgHhLJ"
      },
      "outputs": [],
      "source": [
        "Dcnn.compile(loss='binary_crossentropy', optimizer='adam', metrics=['accuracy'])"
      ]
    },
    {
      "cell_type": "code",
      "execution_count": null,
      "metadata": {
        "id": "e2XaPE9aIud5"
      },
      "outputs": [],
      "source": [
        "checkpoint_path = \"./\"\n",
        "ckpt = tf.train.Checkpoint(Dcnn=Dcnn)\n",
        "ckpt_manager = tf.train.CheckpointManager(ckpt, checkpoint_path, max_to_keep=5)\n",
        "if ckpt_manager.latest_checkpoint:\n",
        "  ckpt.restore(ckpt_manager.latest_checkpoint)\n",
        "  print('Latest checkpoint restored')"
      ]
    },
    {
      "cell_type": "code",
      "execution_count": null,
      "metadata": {
        "colab": {
          "background_save": true,
          "base_uri": "https://localhost:8080/"
        },
        "id": "7Xs8eSv0M4wN",
        "outputId": "0ab78805-3ff6-4422-eaad-a3aa203a8c46"
      },
      "outputs": [
        {
          "name": "stdout",
          "output_type": "stream",
          "text": [
            "Epoch 1/5\n",
            "\u001b[1m2162/2162\u001b[0m \u001b[32m━━━━━━━━━━━━━━━━━━━━\u001b[0m\u001b[37m\u001b[0m \u001b[1m552s\u001b[0m 254ms/step - accuracy: 0.8158 - loss: 0.4191 - val_accuracy: 0.8698 - val_loss: 0.3494\n",
            "Epoch 2/5\n",
            "\u001b[1m2162/2162\u001b[0m \u001b[32m━━━━━━━━━━━━━━━━━━━━\u001b[0m\u001b[37m\u001b[0m \u001b[1m546s\u001b[0m 253ms/step - accuracy: 0.9014 - loss: 0.2821 - val_accuracy: 0.8644 - val_loss: 0.3730\n",
            "Epoch 3/5\n",
            "\u001b[1m2162/2162\u001b[0m \u001b[32m━━━━━━━━━━━━━━━━━━━━\u001b[0m\u001b[37m\u001b[0m \u001b[1m560s\u001b[0m 252ms/step - accuracy: 0.9289 - loss: 0.2017 - val_accuracy: 0.8521 - val_loss: 0.4327\n",
            "Epoch 4/5\n",
            "\u001b[1m2162/2162\u001b[0m \u001b[32m━━━━━━━━━━━━━━━━━━━━\u001b[0m\u001b[37m\u001b[0m \u001b[1m559s\u001b[0m 250ms/step - accuracy: 0.9524 - loss: 0.1346 - val_accuracy: 0.8462 - val_loss: 0.6016\n",
            "Epoch 5/5\n",
            "\u001b[1m2162/2162\u001b[0m \u001b[32m━━━━━━━━━━━━━━━━━━━━\u001b[0m\u001b[37m\u001b[0m \u001b[1m553s\u001b[0m 246ms/step - accuracy: 0.9669 - loss: 0.0939 - val_accuracy: 0.8374 - val_loss: 0.7329\n"
          ]
        },
        {
          "data": {
            "application/vnd.google.colaboratory.intrinsic+json": {
              "type": "string"
            },
            "text/plain": [
              "'./ckpt-1'"
            ]
          },
          "execution_count": 26,
          "metadata": {},
          "output_type": "execute_result"
        }
      ],
      "source": [
        "history = Dcnn.fit(train_input, train_labels,\n",
        "                   batch_size = batch_size,\n",
        "                   epochs = nb_epochs,\n",
        "                   verbose = 1,\n",
        "                   validation_split = 0.10)\n",
        "ckpt_manager.save()"
      ]
    },
    {
      "cell_type": "code",
      "execution_count": null,
      "metadata": {
        "id": "rYUWE3elYtu2"
      },
      "outputs": [],
      "source": []
    }
  ],
  "metadata": {
    "colab": {
      "provenance": []
    },
    "kernelspec": {
      "display_name": "Python 3",
      "name": "python3"
    },
    "language_info": {
      "name": "python"
    }
  },
  "nbformat": 4,
  "nbformat_minor": 0
}